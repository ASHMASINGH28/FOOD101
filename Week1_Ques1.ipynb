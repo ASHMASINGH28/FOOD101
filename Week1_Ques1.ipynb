{
 "cells": [
  {
   "cell_type": "code",
   "execution_count": 1,
   "id": "f0cd868c-9ba3-48a4-a3b3-fd7384b5b60f",
   "metadata": {},
   "outputs": [],
   "source": [
    "import numpy as np\n",
    "from matplotlib import pyplot as plt\n",
    "import cv2"
   ]
  },
  {
   "cell_type": "code",
   "execution_count": 2,
   "id": "f1252a93-d8cf-45ed-8151-b4a39d2caea5",
   "metadata": {},
   "outputs": [],
   "source": [
    "#converting image into rgb format\n",
    "def show_rgb(image):\n",
    "    image_rgb = cv2.cvtColor(image.astype(np.uint8), cv2.COLOR_BGR2RGB)\n",
    "    plt.imshow(image_rgb)\n",
    "    plt.axis('off')\n",
    "    plt.show()"
   ]
  },
  {
   "cell_type": "code",
   "execution_count": 24,
   "id": "60690396-a0dd-47ef-a56a-651e3be375f0",
   "metadata": {},
   "outputs": [],
   "source": [
    "# Sharpening image\n",
    "\n",
    "def sharpen_image(img_path):\n",
    "    img = cv2.imread(img_path)\n",
    "    kernel = np.array([\n",
    "      [0, -1, 0],\n",
    "      [-1, 5, -1],\n",
    "      [0, -1, 0]\n",
    "      ], dtype=np.float32)\n",
    "    sharpened_img = cv2.filter2D(img, -1, kernel)\n",
    "    return sharpened_img\n",
    "\n"
   ]
  },
  {
   "cell_type": "code",
   "execution_count": 12,
   "id": "d3a9867e-6e07-4dab-88ca-c0a6dc0aef7c",
   "metadata": {},
   "outputs": [],
   "source": [
    "# Blurring image\n",
    "def blur_image(img_path):\n",
    "    img = cv2.imread(img_path)\n",
    "    kernel = np.array([[1, 2, 1],\n",
    "                       [2, 4, 2],\n",
    "                       [1, 2, 1]], dtype=np.float32)\n",
    "    kernel = kernel / kernel.sum()\n",
    "    result_img = cv2.filter2D(img, -1, kernel)\n",
    "    return result_img"
   ]
  },
  {
   "cell_type": "code",
   "execution_count": 16,
   "id": "8adee4c1-606c-493c-b121-ef626f31add8",
   "metadata": {},
   "outputs": [],
   "source": [
    "# Highlighting edges\n",
    "def edge_highlighten(img_path):\n",
    "    image = cv2.imread(img_path, cv2.IMREAD_GRAYSCALE)\n",
    "    sobel_x = np.array([[-1, 0, 1],\n",
    "                        [-2, 0, 2],\n",
    "                        [-1, 0, 1]], dtype=np.float32)\n",
    "\n",
    "    sobel_y = np.array([[-1, -2, -1],\n",
    "                        [ 0,  0,  0],\n",
    "                        [ 1,  2,  1]], dtype=np.float32)\n",
    "\n",
    "    gradient_x = cv2.filter2D(image, -1, sobel_x) \n",
    "    gradient_y = cv2.filter2D(image, -1, sobel_y) \n",
    "\n",
    "    \n",
    "    gradient_magnitude = cv2.magnitude(gradient_x.astype(np.float32), gradient_y.astype(np.float32))\n",
    "    gradient_magnitude = cv2.normalize(gradient_magnitude, None, 0, 255, cv2.NORM_MINMAX).astype(np.uint8)\n",
    "\n",
    "    return gradient_magnitude"
   ]
  },
  {
   "cell_type": "code",
   "execution_count": null,
   "id": "28903652-e7cd-4b8e-980e-54660cdb1fbd",
   "metadata": {},
   "outputs": [],
   "source": [
    "img= input(\"Enter image path:\")\n",
    "task= int(input(\"Enter the number for What you want to do with image? 1.sharpening ,2.Blurring, 3.Edge detection:\"))\n",
    "if task==1:\n",
    "    sharpened_image=sharpen_image(img)\n",
    "    plt.imshow(sharpened_image)\n",
    "    \n",
    "elif task==2:\n",
    "    blured_image=blur_image(img)\n",
    "    plt.imshow(blured_image)\n",
    "    \n",
    "elif task==3:\n",
    "    edge=edge_highlighten(img)\n",
    "    plt.imshow(edge)\n",
    "    \n",
    "    \n",
    "else:\n",
    "    print(\"Please enter valid choice\")\n",
    "    "
   ]
  },
  {
   "cell_type": "code",
   "execution_count": null,
   "id": "3beef5e8-d96c-46f4-ae90-ea339bd15160",
   "metadata": {},
   "outputs": [],
   "source": [
    "\n"
   ]
  },
  {
   "cell_type": "code",
   "execution_count": null,
   "id": "5eb12f8c-a3e2-4d61-9925-4b2fe2df8be7",
   "metadata": {},
   "outputs": [],
   "source": []
  }
 ],
 "metadata": {
  "kernelspec": {
   "display_name": "Python (FOOD101)",
   "language": "python",
   "name": "food101"
  },
  "language_info": {
   "codemirror_mode": {
    "name": "ipython",
    "version": 3
   },
   "file_extension": ".py",
   "mimetype": "text/x-python",
   "name": "python",
   "nbconvert_exporter": "python",
   "pygments_lexer": "ipython3",
   "version": "3.13.0"
  }
 },
 "nbformat": 4,
 "nbformat_minor": 5
}
